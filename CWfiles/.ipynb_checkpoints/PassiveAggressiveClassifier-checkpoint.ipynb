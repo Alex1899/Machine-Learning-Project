{
 "cells": [
  {
   "cell_type": "code",
   "execution_count": 237,
   "metadata": {},
   "outputs": [],
   "source": [
    "from sklearn.linear_model import PassiveAggressiveClassifier\n",
    "import pickle\n",
    "import numpy as np\n",
    "from sklearn.feature_extraction.text import TfidfVectorizer\n",
    "from sklearn.metrics import classification_report, confusion_matrix, accuracy_score\n",
    "import matplotlib.pyplot as plt\n",
    "import seaborn as sns\n",
    "import pandas as pd"
   ]
  },
  {
   "cell_type": "code",
   "execution_count": 238,
   "metadata": {},
   "outputs": [],
   "source": [
    "#load training dataset\n",
    "data = open('pickles/dataset.pickle', 'rb')\n",
    "train_set = pickle.load(data)\n",
    "X_train = train_set['changed_tweets']\n",
    "y_train = train_set['label_code']\n",
    "\n",
    "#load testing dataset\n",
    "test = open('pickles/test_set.pickle', 'rb')\n",
    "test_set = pickle.load(test)\n",
    "X_test = test_set['tweetText']\n",
    "y_test = test_set['label_code']"
   ]
  },
  {
   "cell_type": "code",
   "execution_count": 239,
   "metadata": {},
   "outputs": [],
   "source": [
    "from sklearn.pipeline import Pipeline\n",
    "\n",
    "tweet_clf = Pipeline([\n",
    "     ('tfidf', TfidfVectorizer(ngram_range=(1,2), max_df=0.5, min_df=3)),\n",
    "     ('clf', PassiveAggressiveClassifier(max_iter=50)),\n",
    "])"
   ]
  },
  {
   "cell_type": "code",
   "execution_count": 262,
   "metadata": {},
   "outputs": [
    {
     "name": "stdout",
     "output_type": "stream",
     "text": [
      "Training acc: 0.9593077160811785 && Testing acc: 0.8521970705725699\n"
     ]
    }
   ],
   "source": [
    "tweet_clf.fit(X_train, y_train)\n",
    "training_acc = accuracy_score(y_train, tweet_clf.predict(X_train))\n",
    "testing_acc = accuracy_score(y_test, tweet_clf.predict(X_test))\n",
    "\n",
    "print(\"Training acc: \" + str(training_acc) + \" && Testing acc: \" + str(testing_acc))"
   ]
  },
  {
   "cell_type": "code",
   "execution_count": 263,
   "metadata": {},
   "outputs": [
    {
     "name": "stdout",
     "output_type": "stream",
     "text": [
      "              precision    recall  f1-score   support\n",
      "\n",
      "           0       0.85      0.66      0.74      1209\n",
      "           1       0.85      0.94      0.90      2546\n",
      "\n",
      "    accuracy                           0.85      3755\n",
      "   macro avg       0.85      0.80      0.82      3755\n",
      "weighted avg       0.85      0.85      0.85      3755\n",
      "\n"
     ]
    }
   ],
   "source": [
    "print(classification_report(y_test, tweet_clf.predict(X_test)))"
   ]
  },
  {
   "cell_type": "markdown",
   "metadata": {},
   "source": [
    "# Parameter tuning using GridSearchCV"
   ]
  },
  {
   "cell_type": "code",
   "execution_count": 83,
   "metadata": {},
   "outputs": [
    {
     "name": "stderr",
     "output_type": "stream",
     "text": [
      "/home/aleko/anaconda3/envs/MLTcw/lib/python3.7/site-packages/sklearn/linear_model/_stochastic_gradient.py:557: ConvergenceWarning: Maximum number of iteration reached before convergence. Consider increasing max_iter to improve the fit.\n",
      "  ConvergenceWarning)\n"
     ]
    },
    {
     "name": "stdout",
     "output_type": "stream",
     "text": [
      "Training acc: 0.9370564924891716 && Testing acc: 0.7179760319573901\n"
     ]
    }
   ],
   "source": [
    "from sklearn.model_selection import GridSearchCV\n",
    "\n",
    "table = list(range(50, 1001))\n",
    "parameters = {\n",
    "     'tfidf__max_df': np.arange(0.0,1.1, .1).tolist(),\n",
    "     'tfidf__min_df': list(range(21)),\n",
    "     'clf__max_iter': [58,1,12,11,48,31,1000]\n",
    "}\n",
    "\n",
    "gs = GridSearchCV(tweet_clf, parameters, cv=5, n_jobs=-1)\n",
    "gs = gs.fit(X_train, y_train)\n",
    "\n",
    "training_acc = accuracy_score(y_train, gs.predict(X_train))\n",
    "testing_acc = accuracy_score(y_test, gs.predict(X_test))\n",
    "\n",
    "print(\"Training acc: \" + str(training_acc) + \" && Testing acc: \" + str(testing_acc))"
   ]
  },
  {
   "cell_type": "code",
   "execution_count": 84,
   "metadata": {},
   "outputs": [
    {
     "name": "stdout",
     "output_type": "stream",
     "text": [
      "0.7905232144714471\n",
      "{'clf__max_iter': 1, 'tfidf__max_df': 0.2, 'tfidf__min_df': 1}\n"
     ]
    }
   ],
   "source": [
    "print(gs.best_score_)\n",
    "print(gs.best_params_)\n"
   ]
  },
  {
   "cell_type": "code",
   "execution_count": null,
   "metadata": {},
   "outputs": [],
   "source": [
    "pac=PassiveAggressiveClassifier()\n",
    "pac.fit(features_train, labels_train)\n",
    "    \n",
    "training_acc = accuracy_score(labels_train, pac.predict(features_train))\n",
    "testing_acc = accuracy_score(labels_test, pac.predict(features_test))\n",
    "\n",
    "print(training_acc)\n",
    "print(testing_acc)"
   ]
  },
  {
   "cell_type": "code",
   "execution_count": 21,
   "metadata": {},
   "outputs": [
    {
     "name": "stderr",
     "output_type": "stream",
     "text": [
      "/home/aleko/anaconda3/envs/MLTcw/lib/python3.7/site-packages/sklearn/linear_model/_stochastic_gradient.py:557: ConvergenceWarning: Maximum number of iteration reached before convergence. Consider increasing max_iter to improve the fit.\n",
      "  ConvergenceWarning)\n",
      "/home/aleko/anaconda3/envs/MLTcw/lib/python3.7/site-packages/sklearn/linear_model/_stochastic_gradient.py:557: ConvergenceWarning: Maximum number of iteration reached before convergence. Consider increasing max_iter to improve the fit.\n",
      "  ConvergenceWarning)\n",
      "/home/aleko/anaconda3/envs/MLTcw/lib/python3.7/site-packages/sklearn/linear_model/_stochastic_gradient.py:557: ConvergenceWarning: Maximum number of iteration reached before convergence. Consider increasing max_iter to improve the fit.\n",
      "  ConvergenceWarning)\n",
      "/home/aleko/anaconda3/envs/MLTcw/lib/python3.7/site-packages/sklearn/linear_model/_stochastic_gradient.py:557: ConvergenceWarning: Maximum number of iteration reached before convergence. Consider increasing max_iter to improve the fit.\n",
      "  ConvergenceWarning)\n",
      "/home/aleko/anaconda3/envs/MLTcw/lib/python3.7/site-packages/sklearn/linear_model/_stochastic_gradient.py:557: ConvergenceWarning: Maximum number of iteration reached before convergence. Consider increasing max_iter to improve the fit.\n",
      "  ConvergenceWarning)\n",
      "/home/aleko/anaconda3/envs/MLTcw/lib/python3.7/site-packages/sklearn/linear_model/_stochastic_gradient.py:557: ConvergenceWarning: Maximum number of iteration reached before convergence. Consider increasing max_iter to improve the fit.\n",
      "  ConvergenceWarning)\n",
      "/home/aleko/anaconda3/envs/MLTcw/lib/python3.7/site-packages/sklearn/linear_model/_stochastic_gradient.py:557: ConvergenceWarning: Maximum number of iteration reached before convergence. Consider increasing max_iter to improve the fit.\n",
      "  ConvergenceWarning)\n",
      "/home/aleko/anaconda3/envs/MLTcw/lib/python3.7/site-packages/sklearn/linear_model/_stochastic_gradient.py:557: ConvergenceWarning: Maximum number of iteration reached before convergence. Consider increasing max_iter to improve the fit.\n",
      "  ConvergenceWarning)\n",
      "/home/aleko/anaconda3/envs/MLTcw/lib/python3.7/site-packages/sklearn/linear_model/_stochastic_gradient.py:557: ConvergenceWarning: Maximum number of iteration reached before convergence. Consider increasing max_iter to improve the fit.\n",
      "  ConvergenceWarning)\n",
      "/home/aleko/anaconda3/envs/MLTcw/lib/python3.7/site-packages/sklearn/linear_model/_stochastic_gradient.py:557: ConvergenceWarning: Maximum number of iteration reached before convergence. Consider increasing max_iter to improve the fit.\n",
      "  ConvergenceWarning)\n",
      "/home/aleko/anaconda3/envs/MLTcw/lib/python3.7/site-packages/sklearn/linear_model/_stochastic_gradient.py:557: ConvergenceWarning: Maximum number of iteration reached before convergence. Consider increasing max_iter to improve the fit.\n",
      "  ConvergenceWarning)\n",
      "/home/aleko/anaconda3/envs/MLTcw/lib/python3.7/site-packages/sklearn/linear_model/_stochastic_gradient.py:557: ConvergenceWarning: Maximum number of iteration reached before convergence. Consider increasing max_iter to improve the fit.\n",
      "  ConvergenceWarning)\n",
      "/home/aleko/anaconda3/envs/MLTcw/lib/python3.7/site-packages/sklearn/linear_model/_stochastic_gradient.py:557: ConvergenceWarning: Maximum number of iteration reached before convergence. Consider increasing max_iter to improve the fit.\n",
      "  ConvergenceWarning)\n",
      "/home/aleko/anaconda3/envs/MLTcw/lib/python3.7/site-packages/sklearn/linear_model/_stochastic_gradient.py:557: ConvergenceWarning: Maximum number of iteration reached before convergence. Consider increasing max_iter to improve the fit.\n",
      "  ConvergenceWarning)\n"
     ]
    }
   ],
   "source": [
    "max_iter = list(range(11,51))\n",
    "list_n = {}\n",
    "for n in max_iter:\n",
    "    pac=PassiveAggressiveClassifier(max_iter=n)\n",
    "    pac.fit(features_train, labels_train)\n",
    "    \n",
    "    training_acc = accuracy_score(labels_train, pac.predict(features_train))\n",
    "    testing_acc = accuracy_score(labels_test, pac.predict(features_test))\n",
    "    \n",
    "    list_n[n] = (training_acc, testing_acc)\n",
    "   "
   ]
  },
  {
   "cell_type": "code",
   "execution_count": 22,
   "metadata": {},
   "outputs": [
    {
     "data": {
      "text/plain": [
       "{11: (0.988848954013455, 0.7097203728362184),\n",
       " 12: (0.9895862132522348, 0.6460719041278296),\n",
       " 13: (0.9894940558473874, 0.7163781624500666),\n",
       " 14: (0.9882960095843701, 0.6745672436750999),\n",
       " 15: (0.9897705280619298, 0.6681757656458056),\n",
       " 16: (0.9894940558473874, 0.6572569906790945),\n",
       " 17: (0.9897705280619298, 0.6591211717709721),\n",
       " 18: (0.9896783706570823, 0.6492676431424766),\n",
       " 19: (0.9899548428716247, 0.6529960053262317),\n",
       " 20: (0.9899548428716247, 0.6591211717709721),\n",
       " 21: (0.9893097410376924, 0.7163781624500666),\n",
       " 22: (0.9898626854667772, 0.6958721704394141),\n",
       " 23: (0.9893097410376924, 0.6511318242343542),\n",
       " 24: (0.9894018984425399, 0.6716378162450066),\n",
       " 25: (0.9889411114183024, 0.6503328894806925),\n",
       " 26: (0.9894018984425399, 0.6631158455392809),\n",
       " 27: (0.9898626854667772, 0.6719041278295605),\n",
       " 28: (0.9899548428716247, 0.6503328894806925),\n",
       " 29: (0.9899548428716247, 0.6649800266311584),\n",
       " 30: (0.9879273799649801, 0.6681757656458056),\n",
       " 31: (0.9890332688231499, 0.8007989347536618),\n",
       " 32: (0.9872822781310479, 0.7874833555259654),\n",
       " 33: (0.988848954013455, 0.6708388814913449),\n",
       " 34: (0.9897705280619298, 0.6652463382157123),\n",
       " 35: (0.9900470002764722, 0.6423435419440746),\n",
       " 36: (0.989217583632845, 0.6513981358189082),\n",
       " 37: (0.9895862132522348, 0.6516644474034621),\n",
       " 38: (0.9899548428716247, 0.662849533954727),\n",
       " 39: (0.9900470002764722, 0.6671105193075899),\n",
       " 40: (0.9024974656713667, 0.7784287616511318),\n",
       " 41: (0.9897705280619298, 0.7107856191744341),\n",
       " 42: (0.9903234724910146, 0.6633821571238349),\n",
       " 43: (0.9898626854667772, 0.6644474034620506),\n",
       " 44: (0.9895862132522348, 0.7062583222370173),\n",
       " 45: (0.9895862132522348, 0.6569906790945406),\n",
       " 46: (0.9885724817989126, 0.7041278295605858),\n",
       " 47: (0.9897705280619298, 0.6601864181091878),\n",
       " 48: (0.9890332688231499, 0.8093209054593875),\n",
       " 49: (0.9896783706570823, 0.6639147802929427),\n",
       " 50: (0.9900470002764722, 0.6577896138482024)}"
      ]
     },
     "execution_count": 22,
     "metadata": {},
     "output_type": "execute_result"
    }
   ],
   "source": [
    "list_n"
   ]
  },
  {
   "cell_type": "markdown",
   "metadata": {},
   "source": [
    "PassiveAggresiveClassifier \n",
    "max_iter = 1000 -> acc=0.8117177 ngram=(1,1)\n",
    "max_iter = 48 -> acc = 0.80932   ngram=(1,2)\n",
    "max_iter = 31 -> acc = 0.80079   ..."
   ]
  },
  {
   "cell_type": "code",
   "execution_count": null,
   "metadata": {},
   "outputs": [],
   "source": [
    "from sklearn.model_selection import GridSearchCV\n",
    "\n",
    "params = {'max_iter': list(range(51,1000))}"
   ]
  },
  {
   "cell_type": "code",
   "execution_count": 9,
   "metadata": {},
   "outputs": [
    {
     "name": "stdout",
     "output_type": "stream",
     "text": [
      "The training accuracy is: \n",
      "0.9894018984425399\n"
     ]
    }
   ],
   "source": [
    "print(\"The training accuracy is: \")\n",
    "print(accuracy_score(labels_train, pac.predict(features_train)))"
   ]
  },
  {
   "cell_type": "code",
   "execution_count": 10,
   "metadata": {},
   "outputs": [
    {
     "name": "stdout",
     "output_type": "stream",
     "text": [
      "The test accuracy is: \n",
      "0.7094540612516644\n"
     ]
    }
   ],
   "source": [
    "pac_pred = pac.predict(features_test)\n",
    "print(\"The test accuracy is: \")\n",
    "print(accuracy_score(labels_test, pac_pred))"
   ]
  }
 ],
 "metadata": {
  "kernelspec": {
   "display_name": "Python 3",
   "language": "python",
   "name": "python3"
  },
  "language_info": {
   "codemirror_mode": {
    "name": "ipython",
    "version": 3
   },
   "file_extension": ".py",
   "mimetype": "text/x-python",
   "name": "python",
   "nbconvert_exporter": "python",
   "pygments_lexer": "ipython3",
   "version": "3.7.5"
  }
 },
 "nbformat": 4,
 "nbformat_minor": 2
}
