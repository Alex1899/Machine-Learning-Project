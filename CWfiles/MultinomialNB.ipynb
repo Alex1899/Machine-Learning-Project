{
 "cells": [
  {
   "cell_type": "code",
   "execution_count": 5,
   "metadata": {},
   "outputs": [],
   "source": [
    "import pickle\n",
    "import numpy as np\n",
    "from sklearn.feature_extraction.text import TfidfVectorizer\n",
    "from sklearn.naive_bayes import MultinomialNB\n",
    "from pprint import pprint\n",
    "from sklearn.model_selection import RandomizedSearchCV\n",
    "from sklearn.model_selection import GridSearchCV\n",
    "from sklearn.metrics import classification_report, confusion_matrix, accuracy_score\n",
    "from sklearn.model_selection import ShuffleSplit\n",
    "import matplotlib.pyplot as plt\n",
    "import seaborn as sns\n",
    "import pandas as pd"
   ]
  },
  {
   "cell_type": "code",
   "execution_count": 6,
   "metadata": {},
   "outputs": [],
   "source": [
    "#load training dataset\n",
    "data = open('pickles/dataset.pickle', 'rb')\n",
    "train_set = pickle.load(data)\n",
    "X_train = train_set['changed_tweets']\n",
    "y_train = train_set['label_code']\n",
    "\n",
    "#load testing dataset\n",
    "test = open('pickles/test_set.pickle', 'rb')\n",
    "test_set = pickle.load(test)\n",
    "X_test = test_set['tweetText']\n",
    "y_test = test_set['label_code']"
   ]
  },
  {
   "cell_type": "code",
   "execution_count": 136,
   "metadata": {},
   "outputs": [],
   "source": [
    "from sklearn.pipeline import Pipeline\n",
    "\n",
    "tweet_clf = Pipeline([\n",
    "     ('tfidf', TfidfVectorizer(ngram_range=(1,1))),\n",
    "     ('clf', MultinomialNB(alpha=0.5)),\n",
    "])"
   ]
  },
  {
   "cell_type": "code",
   "execution_count": 138,
   "metadata": {},
   "outputs": [
    {
     "name": "stdout",
     "output_type": "stream",
     "text": [
      "Training acc: 0.9289172761924385 && Testing acc: 0.8527296937416777\n"
     ]
    }
   ],
   "source": [
    "tweet_clf.fit(X_train, y_train)\n",
    "training_acc = accuracy_score(y_train, tweet_clf.predict(X_train))\n",
    "testing_acc = accuracy_score(y_test, tweet_clf.predict(X_test))\n",
    "\n",
    "print(\"Training acc: \" + str(training_acc) + \" && Testing acc: \" + str(testing_acc))"
   ]
  },
  {
   "cell_type": "code",
   "execution_count": 139,
   "metadata": {},
   "outputs": [
    {
     "name": "stdout",
     "output_type": "stream",
     "text": [
      "              precision    recall  f1-score   support\n",
      "\n",
      "           0       0.93      0.59      0.72      1209\n",
      "           1       0.83      0.98      0.90      2546\n",
      "\n",
      "    accuracy                           0.85      3755\n",
      "   macro avg       0.88      0.78      0.81      3755\n",
      "weighted avg       0.86      0.85      0.84      3755\n",
      "\n"
     ]
    }
   ],
   "source": [
    "print(classification_report(y_test, tweet_clf.predict(X_test)))"
   ]
  },
  {
   "cell_type": "code",
   "execution_count": 126,
   "metadata": {},
   "outputs": [
    {
     "name": "stdout",
     "output_type": "stream",
     "text": [
      "Training acc: 0.9269191779559488 && Testing acc: 0.7643142476697736\n"
     ]
    }
   ],
   "source": [
    "from sklearn.model_selection import GridSearchCV\n",
    "\n",
    "table = {}\n",
    "parameters = {\n",
    "     'tfidf__max_df': np.arange(0.0,1.1, .1).tolist(),\n",
    "     'tfidf__min_df': np.arange(0.0,1.1, .1).tolist(),\n",
    "     'clf__alpha': np.arange(0.0,1.1, .1).tolist()\n",
    "}\n",
    "\n",
    "gs = GridSearchCV(tweet_clf, parameters, cv=5, n_jobs=-1)\n",
    "gs = gs.fit(X_train, y_train)\n",
    "\n",
    "training_acc = accuracy_score(y_train, gs.predict(X_train))\n",
    "testing_acc = accuracy_score(y_test, gs.predict(X_test))\n",
    "\n",
    "print(\"Training acc: \" + str(training_acc) + \" && Testing acc: \" + str(testing_acc))"
   ]
  },
  {
   "cell_type": "code",
   "execution_count": 127,
   "metadata": {},
   "outputs": [
    {
     "name": "stdout",
     "output_type": "stream",
     "text": [
      "0.8119052784187032\n",
      "{'clf__alpha': 0.5, 'tfidf__max_df': 0.1, 'tfidf__min_df': 0.0}\n"
     ]
    }
   ],
   "source": [
    "print(gs.best_score_)\n",
    "print(gs.best_params_)\n"
   ]
  },
  {
   "cell_type": "code",
   "execution_count": null,
   "metadata": {},
   "outputs": [],
   "source": []
  }
 ],
 "metadata": {
  "kernelspec": {
   "display_name": "Python 3",
   "language": "python",
   "name": "python3"
  },
  "language_info": {
   "codemirror_mode": {
    "name": "ipython",
    "version": 3
   },
   "file_extension": ".py",
   "mimetype": "text/x-python",
   "name": "python",
   "nbconvert_exporter": "python",
   "pygments_lexer": "ipython3",
   "version": "3.7.5"
  }
 },
 "nbformat": 4,
 "nbformat_minor": 2
}
