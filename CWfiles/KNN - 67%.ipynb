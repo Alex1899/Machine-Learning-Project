{
 "cells": [
  {
   "cell_type": "code",
   "execution_count": 1,
   "metadata": {},
   "outputs": [],
   "source": [
    "import pickle\n",
    "import numpy as np\n",
    "from sklearn.feature_extraction.text import TfidfVectorizer\n",
    "from sklearn.neighbors import KNeighborsClassifier\n",
    "from pprint import pprint\n",
    "from sklearn.model_selection import RandomizedSearchCV\n",
    "from sklearn.model_selection import GridSearchCV\n",
    "from sklearn.metrics import classification_report, confusion_matrix, accuracy_score\n",
    "from sklearn.model_selection import ShuffleSplit\n",
    "import matplotlib.pyplot as plt\n",
    "import seaborn as sns\n",
    "import pandas as pd"
   ]
  },
  {
   "cell_type": "code",
   "execution_count": 2,
   "metadata": {},
   "outputs": [],
   "source": [
    "#load training dataset\n",
    "data = open('pickles/dataset.pickle', 'rb')\n",
    "dataset = pickle.load(data)\n",
    "\n",
    "#load testing dataset\n",
    "test = open('pickles/test_set.pickle', 'rb')\n",
    "test_set = pickle.load(test)\n",
    "\n",
    "training_data = open('pickles/features_train.pickle', 'rb')\n",
    "features_train = pickle.load(training_data)\n",
    "\n",
    "labels = open('pickles/labels_train.pickle', 'rb')\n",
    "labels_train = pickle.load(labels)\n",
    "\n",
    "testing_data = open('pickles/features_test.pickle', 'rb')\n",
    "features_test = pickle.load(testing_data)\n",
    "\n",
    "labels2 = open('pickles/labels_test.pickle', 'rb')\n",
    "labels_test = pickle.load(labels2)\n"
   ]
  },
  {
   "cell_type": "code",
   "execution_count": 3,
   "metadata": {},
   "outputs": [
    {
     "data": {
      "text/plain": [
       "KNeighborsClassifier(algorithm='auto', leaf_size=30, metric='minkowski',\n",
       "                     metric_params=None, n_jobs=None, n_neighbors=5, p=2,\n",
       "                     weights='uniform')"
      ]
     },
     "execution_count": 3,
     "metadata": {},
     "output_type": "execute_result"
    }
   ],
   "source": [
    "knn =KNeighborsClassifier(n_neighbors=1)\n",
    "knn.fit(features_train, labels_train)"
   ]
  },
  {
   "cell_type": "code",
   "execution_count": 4,
   "metadata": {},
   "outputs": [
    {
     "name": "stdout",
     "output_type": "stream",
     "text": [
      "0.8476229592360612\n"
     ]
    }
   ],
   "source": [
    "print(accuracy_score(labels_train, knn.predict(features_train)))"
   ]
  },
  {
   "cell_type": "code",
   "execution_count": 5,
   "metadata": {},
   "outputs": [
    {
     "name": "stdout",
     "output_type": "stream",
     "text": [
      "testing accuracy:\n",
      "0.6303595206391478\n"
     ]
    }
   ],
   "source": [
    "print(\"testing accuracy:\")\n",
    "print(accuracy_score(labels_test, knn.predict(features_test)))"
   ]
  },
  {
   "cell_type": "code",
   "execution_count": 6,
   "metadata": {},
   "outputs": [
    {
     "name": "stdout",
     "output_type": "stream",
     "text": [
      "[0.6282290279627164, 0.6090545938748335, 0.6466045272969374, 0.5637816245006658, 0.6303595206391478, 0.6042609853528629, 0.6527296937416778, 0.6367509986684421, 0.6516644474034621, 0.6466045272969374, 0.6548601864181092, 0.6591211717709721, 0.6636484687083888, 0.6412782956058588, 0.6604527296937417, 0.6567243675099866, 0.6644474034620506, 0.6418109187749668, 0.6705725699067909, 0.6676431424766978, 0.6692410119840213, 0.6697736351531292, 0.6745672436750999, 0.6782956058588548, 0.6782956058588548]\n"
     ]
    }
   ],
   "source": [
    "k_range = range(1, 26)\n",
    "\n",
    "# We can create Python dictionary using [] or dict()\n",
    "scores = []\n",
    "\n",
    "# We use a loop through the range 1 to 26\n",
    "# We append the scores in the dictionary\n",
    "for k in k_range:\n",
    "    knn = KNeighborsClassifier(n_neighbors=k)\n",
    "    knn.fit(features_train, labels_train)\n",
    "    y_pred = knn.predict(features_test)\n",
    "    scores.append(accuracy_score(labels_test, y_pred))\n",
    "\n",
    "print(scores)"
   ]
  }
 ],
 "metadata": {
  "kernelspec": {
   "display_name": "Python 3",
   "language": "python",
   "name": "python3"
  },
  "language_info": {
   "codemirror_mode": {
    "name": "ipython",
    "version": 3
   },
   "file_extension": ".py",
   "mimetype": "text/x-python",
   "name": "python",
   "nbconvert_exporter": "python",
   "pygments_lexer": "ipython3",
   "version": "3.7.4"
  }
 },
 "nbformat": 4,
 "nbformat_minor": 2
}
